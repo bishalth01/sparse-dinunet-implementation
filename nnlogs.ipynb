{
 "cells": [
  {
   "cell_type": "code",
   "execution_count": 31,
   "metadata": {
    "pycharm": {
     "name": "#%%\n"
    }
   },
   "outputs": [],
   "source": [
    "import zipfile\n",
    "import json\n",
    "import os\n",
    "import glob\n",
    "import math"
   ]
  },
  {
   "cell_type": "code",
   "execution_count": 33,
   "metadata": {
    "pycharm": {
     "name": "#%%\n"
    }
   },
   "outputs": [],
   "source": [
    "path = \"fs-lstm_2S/output/625440caf5b5497ac9684fd0/\"\n",
    "r = lambda x: round(x, 2)"
   ]
  },
  {
   "cell_type": "code",
   "execution_count": 45,
   "metadata": {
    "scrolled": true,
    "pycharm": {
     "name": "#%%\n"
    }
   },
   "outputs": [
    {
     "name": "stdout",
     "output_type": "stream",
     "text": [
      "powerSGD: Loss, AUC [[0.33662, 0.90702]]\n",
      "Cumulative total(s): Local: 1141.3 Remote: 1135.38\n",
      "Computation only(s): Local: 124.05 Remote: 28.29\n",
      "------------------------------------------------------------\n",
      "rankDAD: Loss, AUC [[0.38915, 0.85351]]\n",
      "Cumulative total(s): Local: 695.38 Remote: 692.68\n",
      "Computation only(s): Local: 111.02 Remote: 39.04\n",
      "------------------------------------------------------------\n",
      "dSGD: Loss, AUC [[0.72688, 0.81404]]\n",
      "Cumulative total(s): Local: 2338.57 Remote: 2335.86\n",
      "Computation only(s): Local: 75.71 Remote: 86.28\n",
      "------------------------------------------------------------\n"
     ]
    }
   ],
   "source": [
    "for dr in os.listdir(path)[::-1]:\n",
    "    _pth = path + os.sep + dr\n",
    "    dr_files = os.listdir(_pth)\n",
    "    \n",
    "    exp = \"FS-Classification\"\n",
    "    if exp not in dr_files: \n",
    "        continue\n",
    "        \n",
    "    local_log = _pth + os.sep + f\"{exp}/fold_0/logs.json\"\n",
    "    local_log = json.load(open(local_log))\n",
    "    \n",
    "    file = \"\"\n",
    "    for file in dr_files:\n",
    "        if \".zip\" in file:\n",
    "            break\n",
    "            \n",
    "    with zipfile.ZipFile(_pth + os.sep + file, 'r') as zip_ref:\n",
    "        os.makedirs(_pth + os.sep + 'GLOBAL_res', exist_ok=True)\n",
    "        zip_ref.extractall(_pth + os.sep + 'GLOBAL_res')\n",
    "    \n",
    "    remote_log = json.load(open(_pth + os.sep + \"GLOBAL_res\" + os.sep + \"fold_0\" + os.sep + \"logs.json\"))\n",
    "    print(f\"{local_log['agg_engine']}:\", \"Loss, AUC\", remote_log['test_metrics'])\n",
    "    print(\"Cumulative total(s):\", \n",
    "          \"Local:\", r(local_log['cumulative_total_duration'][-1]), \n",
    "          \"Remote:\", r(remote_log['cumulative_total_duration'][-1])\n",
    "         )\n",
    "    print(\"Computation only(s):\", \n",
    "          \"Local:\", r(sum(local_log['time_spent_on_computation'])), \n",
    "          \"Remote:\", r(sum(remote_log['time_spent_on_computation']))\n",
    "         )\n",
    "    print('---' * 20)"
   ]
  },
  {
   "cell_type": "code",
   "execution_count": null,
   "metadata": {
    "pycharm": {
     "name": "#%%\n"
    }
   },
   "outputs": [],
   "source": []
  },
  {
   "cell_type": "code",
   "execution_count": null,
   "metadata": {
    "pycharm": {
     "name": "#%%\n"
    }
   },
   "outputs": [],
   "source": []
  }
 ],
 "metadata": {
  "kernelspec": {
   "display_name": "Python 3",
   "language": "python",
   "name": "python3"
  },
  "language_info": {
   "codemirror_mode": {
    "name": "ipython",
    "version": 3
   },
   "file_extension": ".py",
   "mimetype": "text/x-python",
   "name": "python",
   "nbconvert_exporter": "python",
   "pygments_lexer": "ipython3",
   "version": "3.8.10"
  }
 },
 "nbformat": 4,
 "nbformat_minor": 4
}